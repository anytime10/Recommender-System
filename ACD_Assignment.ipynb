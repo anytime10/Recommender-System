{
 "cells": [
  {
   "cell_type": "code",
   "execution_count": 105,
   "id": "ac1f77e3",
   "metadata": {
    "scrolled": false
   },
   "outputs": [
    {
     "name": "stdout",
     "output_type": "stream",
     "text": [
      "Requirement already satisfied: scikit-surprise in c:\\users\\mw\\anaconda3\\lib\\site-packages (1.1.3)\n",
      "Requirement already satisfied: joblib>=1.0.0 in c:\\users\\mw\\anaconda3\\lib\\site-packages (from scikit-surprise) (1.2.0)\n",
      "Requirement already satisfied: scipy>=1.3.2 in c:\\users\\mw\\anaconda3\\lib\\site-packages (from scikit-surprise) (1.9.1)\n",
      "Requirement already satisfied: numpy>=1.17.3 in c:\\users\\mw\\anaconda3\\lib\\site-packages (from scikit-surprise) (1.24.3)\n"
     ]
    }
   ],
   "source": [
    "!pip install scikit-surprise"
   ]
  },
  {
   "cell_type": "markdown",
   "id": "b067170c",
   "metadata": {},
   "source": [
    "Importing the necessary Python libraries and modules that we'll be using for our data analysis and recommendation system."
   ]
  },
  {
   "cell_type": "code",
   "execution_count": 106,
   "id": "b6bb361d",
   "metadata": {},
   "outputs": [],
   "source": [
    "import numpy as np\n",
    "import pandas as pd\n",
    "import seaborn as sns\n",
    "import matplotlib.pyplot as plt\n",
    "import datetime\n",
    "from surprise.model_selection.split import KFold\n",
    "from surprise.model_selection import GridSearchCV\n",
    "from surprise import Dataset, Reader\n",
    "from surprise import SVD\n",
    "from surprise import KNNWithMeans\n",
    "from surprise import NormalPredictor\n",
    "from surprise.model_selection import cross_validate"
   ]
  },
  {
   "cell_type": "markdown",
   "id": "8602cf4a",
   "metadata": {},
   "source": [
    "In this step, we are loading the MovieLens Ratings dataset from a CSV file using the pandas library."
   ]
  },
  {
   "cell_type": "markdown",
   "id": "e124c05b",
   "metadata": {},
   "source": [
    "*DATA INSPECTION AND DATA PREPING*"
   ]
  },
  {
   "cell_type": "code",
   "execution_count": 107,
   "id": "bd375d19",
   "metadata": {},
   "outputs": [],
   "source": [
    "data = pd.read_csv('C:/Users/mw/Desktop/DSS/Analysis of Customer Data/Practical session/MovieLens-Ratings.csv')"
   ]
  },
  {
   "cell_type": "markdown",
   "id": "1cdd5e43",
   "metadata": {},
   "source": [
    "Checking how the data look like, displaying the first 10 rows of the dataset"
   ]
  },
  {
   "cell_type": "code",
   "execution_count": 108,
   "id": "53207324",
   "metadata": {},
   "outputs": [
    {
     "data": {
      "text/html": [
       "<div>\n",
       "<style scoped>\n",
       "    .dataframe tbody tr th:only-of-type {\n",
       "        vertical-align: middle;\n",
       "    }\n",
       "\n",
       "    .dataframe tbody tr th {\n",
       "        vertical-align: top;\n",
       "    }\n",
       "\n",
       "    .dataframe thead th {\n",
       "        text-align: right;\n",
       "    }\n",
       "</style>\n",
       "<table border=\"1\" class=\"dataframe\">\n",
       "  <thead>\n",
       "    <tr style=\"text-align: right;\">\n",
       "      <th></th>\n",
       "      <th>userId</th>\n",
       "      <th>movieId</th>\n",
       "      <th>rating</th>\n",
       "      <th>timestamp</th>\n",
       "    </tr>\n",
       "  </thead>\n",
       "  <tbody>\n",
       "    <tr>\n",
       "      <th>0</th>\n",
       "      <td>1</td>\n",
       "      <td>307</td>\n",
       "      <td>3.5</td>\n",
       "      <td>1256677221</td>\n",
       "    </tr>\n",
       "    <tr>\n",
       "      <th>1</th>\n",
       "      <td>1</td>\n",
       "      <td>481</td>\n",
       "      <td>3.5</td>\n",
       "      <td>1256677456</td>\n",
       "    </tr>\n",
       "    <tr>\n",
       "      <th>2</th>\n",
       "      <td>1</td>\n",
       "      <td>1091</td>\n",
       "      <td>1.5</td>\n",
       "      <td>1256677471</td>\n",
       "    </tr>\n",
       "    <tr>\n",
       "      <th>3</th>\n",
       "      <td>1</td>\n",
       "      <td>1257</td>\n",
       "      <td>4.5</td>\n",
       "      <td>1256677460</td>\n",
       "    </tr>\n",
       "    <tr>\n",
       "      <th>4</th>\n",
       "      <td>1</td>\n",
       "      <td>1449</td>\n",
       "      <td>4.5</td>\n",
       "      <td>1256677264</td>\n",
       "    </tr>\n",
       "    <tr>\n",
       "      <th>5</th>\n",
       "      <td>1</td>\n",
       "      <td>1590</td>\n",
       "      <td>2.5</td>\n",
       "      <td>1256677236</td>\n",
       "    </tr>\n",
       "    <tr>\n",
       "      <th>6</th>\n",
       "      <td>1</td>\n",
       "      <td>1591</td>\n",
       "      <td>1.5</td>\n",
       "      <td>1256677475</td>\n",
       "    </tr>\n",
       "    <tr>\n",
       "      <th>7</th>\n",
       "      <td>1</td>\n",
       "      <td>2134</td>\n",
       "      <td>4.5</td>\n",
       "      <td>1256677464</td>\n",
       "    </tr>\n",
       "    <tr>\n",
       "      <th>8</th>\n",
       "      <td>1</td>\n",
       "      <td>2478</td>\n",
       "      <td>4.0</td>\n",
       "      <td>1256677239</td>\n",
       "    </tr>\n",
       "    <tr>\n",
       "      <th>9</th>\n",
       "      <td>1</td>\n",
       "      <td>2840</td>\n",
       "      <td>3.0</td>\n",
       "      <td>1256677500</td>\n",
       "    </tr>\n",
       "  </tbody>\n",
       "</table>\n",
       "</div>"
      ],
      "text/plain": [
       "   userId  movieId  rating   timestamp\n",
       "0       1      307     3.5  1256677221\n",
       "1       1      481     3.5  1256677456\n",
       "2       1     1091     1.5  1256677471\n",
       "3       1     1257     4.5  1256677460\n",
       "4       1     1449     4.5  1256677264\n",
       "5       1     1590     2.5  1256677236\n",
       "6       1     1591     1.5  1256677475\n",
       "7       1     2134     4.5  1256677464\n",
       "8       1     2478     4.0  1256677239\n",
       "9       1     2840     3.0  1256677500"
      ]
     },
     "execution_count": 108,
     "metadata": {},
     "output_type": "execute_result"
    }
   ],
   "source": [
    "data.head(10)"
   ]
  },
  {
   "cell_type": "markdown",
   "id": "a55aebda",
   "metadata": {},
   "source": [
    "Because ratings are on a five-star scale, with half-star increments (0.5 stars - 5.0 stars), we are checking all values in rating column are between 0.5 and 5."
   ]
  },
  {
   "cell_type": "code",
   "execution_count": 109,
   "id": "d6525b70",
   "metadata": {},
   "outputs": [
    {
     "name": "stdout",
     "output_type": "stream",
     "text": [
      "0.5\n",
      "5.0\n"
     ]
    }
   ],
   "source": [
    "min_rating= data['rating'].min()\n",
    "max_rating= data['rating'].max()\n",
    "\n",
    "print(min_rating)\n",
    "print(max_rating)"
   ]
  },
  {
   "cell_type": "code",
   "execution_count": 110,
   "id": "a44c61e8",
   "metadata": {},
   "outputs": [
    {
     "name": "stdout",
     "output_type": "stream",
     "text": [
      "All ratings are within the 0.5-5 range.\n"
     ]
    }
   ],
   "source": [
    "invalid_ratings = data[(data['rating'] < 0.5) | (data['rating'] > 5)]\n",
    "\n",
    "if not invalid_ratings.empty:\n",
    "    print(\"Invalid Ratings:\")\n",
    "    print(invalid_ratings)\n",
    "else:\n",
    "    print(\"All ratings are within the 0.5-5 range.\")"
   ]
  },
  {
   "cell_type": "markdown",
   "id": "a464c502",
   "metadata": {},
   "source": [
    "Here we are trying to understand better the timestamp variable, and checking the corresponding years from these datetime objects. Knowing that timestamps represent seconds since mid-night Coordinated Universal Time (UTC) of January 1, 1970."
   ]
  },
  {
   "cell_type": "code",
   "execution_count": 111,
   "id": "b89c9667",
   "metadata": {},
   "outputs": [
    {
     "name": "stdout",
     "output_type": "stream",
     "text": [
      "789652004\n",
      "1537945149\n"
     ]
    },
    {
     "data": {
      "text/plain": [
       "(1995, 2018)"
      ]
     },
     "execution_count": 111,
     "metadata": {},
     "output_type": "execute_result"
    }
   ],
   "source": [
    "min_timestamp= data['timestamp'].min()\n",
    "max_timestamp= data['timestamp'].max()\n",
    "\n",
    "print(min_timestamp)\n",
    "print(max_timestamp)\n",
    "\n",
    "min_date = datetime.datetime.utcfromtimestamp(min_timestamp)\n",
    "max_date = datetime.datetime.utcfromtimestamp(max_timestamp)\n",
    "\n",
    "min_year = min_date.year\n",
    "max_year = max_date.year\n",
    "\n",
    "min_year, max_year"
   ]
  },
  {
   "cell_type": "markdown",
   "id": "2c1292b9",
   "metadata": {},
   "source": [
    "Timestamps typically represent the moment at which a user rated or otherwise interacted with an item. Although this variable could be informative to identify trends and popular movies, this dataset was last updated on 2018, so it would already be considered outdated to understand current trends of 2023. On top of this, dropping the \"timestamp\" variable will help us simplifying the dataset and the process, leading into a cleaner and more interpretable model."
   ]
  },
  {
   "cell_type": "code",
   "execution_count": 112,
   "id": "15d9cff6",
   "metadata": {},
   "outputs": [],
   "source": [
    "data = data.drop(columns=['timestamp'])"
   ]
  },
  {
   "cell_type": "markdown",
   "id": "7e3c65d4",
   "metadata": {},
   "source": [
    "Looking for any Missing Values"
   ]
  },
  {
   "cell_type": "code",
   "execution_count": 113,
   "id": "8927a404",
   "metadata": {
    "scrolled": true
   },
   "outputs": [
    {
     "data": {
      "text/plain": [
       "userId     False\n",
       "movieId    False\n",
       "rating     False\n",
       "dtype: bool"
      ]
     },
     "execution_count": 113,
     "metadata": {},
     "output_type": "execute_result"
    }
   ],
   "source": [
    "data.isnull().any() "
   ]
  },
  {
   "cell_type": "code",
   "execution_count": 114,
   "id": "64e81549",
   "metadata": {},
   "outputs": [
    {
     "name": "stdout",
     "output_type": "stream",
     "text": [
      "<class 'pandas.core.frame.DataFrame'>\n",
      "RangeIndex: 27753444 entries, 0 to 27753443\n",
      "Data columns (total 3 columns):\n",
      " #   Column   Dtype  \n",
      "---  ------   -----  \n",
      " 0   userId   int64  \n",
      " 1   movieId  int64  \n",
      " 2   rating   float64\n",
      "dtypes: float64(1), int64(2)\n",
      "memory usage: 635.2 MB\n",
      "None\n",
      "27753444\n"
     ]
    }
   ],
   "source": [
    "print(data.info())\n",
    "print(data.shape[0])"
   ]
  },
  {
   "cell_type": "code",
   "execution_count": 115,
   "id": "6e5bbe23",
   "metadata": {},
   "outputs": [
    {
     "data": {
      "text/html": [
       "<div>\n",
       "<style scoped>\n",
       "    .dataframe tbody tr th:only-of-type {\n",
       "        vertical-align: middle;\n",
       "    }\n",
       "\n",
       "    .dataframe tbody tr th {\n",
       "        vertical-align: top;\n",
       "    }\n",
       "\n",
       "    .dataframe thead th {\n",
       "        text-align: right;\n",
       "    }\n",
       "</style>\n",
       "<table border=\"1\" class=\"dataframe\">\n",
       "  <thead>\n",
       "    <tr style=\"text-align: right;\">\n",
       "      <th></th>\n",
       "      <th>userId</th>\n",
       "      <th>movieId</th>\n",
       "      <th>rating</th>\n",
       "    </tr>\n",
       "  </thead>\n",
       "  <tbody>\n",
       "    <tr>\n",
       "      <th>count</th>\n",
       "      <td>2.775344e+07</td>\n",
       "      <td>2.775344e+07</td>\n",
       "      <td>2.775344e+07</td>\n",
       "    </tr>\n",
       "    <tr>\n",
       "      <th>mean</th>\n",
       "      <td>1.419420e+05</td>\n",
       "      <td>1.848800e+04</td>\n",
       "      <td>3.530445e+00</td>\n",
       "    </tr>\n",
       "    <tr>\n",
       "      <th>std</th>\n",
       "      <td>8.170740e+04</td>\n",
       "      <td>3.510263e+04</td>\n",
       "      <td>1.066353e+00</td>\n",
       "    </tr>\n",
       "    <tr>\n",
       "      <th>min</th>\n",
       "      <td>1.000000e+00</td>\n",
       "      <td>1.000000e+00</td>\n",
       "      <td>5.000000e-01</td>\n",
       "    </tr>\n",
       "    <tr>\n",
       "      <th>25%</th>\n",
       "      <td>7.117600e+04</td>\n",
       "      <td>1.097000e+03</td>\n",
       "      <td>3.000000e+00</td>\n",
       "    </tr>\n",
       "    <tr>\n",
       "      <th>50%</th>\n",
       "      <td>1.420220e+05</td>\n",
       "      <td>2.716000e+03</td>\n",
       "      <td>3.500000e+00</td>\n",
       "    </tr>\n",
       "    <tr>\n",
       "      <th>75%</th>\n",
       "      <td>2.124590e+05</td>\n",
       "      <td>7.150000e+03</td>\n",
       "      <td>4.000000e+00</td>\n",
       "    </tr>\n",
       "    <tr>\n",
       "      <th>max</th>\n",
       "      <td>2.832280e+05</td>\n",
       "      <td>1.938860e+05</td>\n",
       "      <td>5.000000e+00</td>\n",
       "    </tr>\n",
       "  </tbody>\n",
       "</table>\n",
       "</div>"
      ],
      "text/plain": [
       "             userId       movieId        rating\n",
       "count  2.775344e+07  2.775344e+07  2.775344e+07\n",
       "mean   1.419420e+05  1.848800e+04  3.530445e+00\n",
       "std    8.170740e+04  3.510263e+04  1.066353e+00\n",
       "min    1.000000e+00  1.000000e+00  5.000000e-01\n",
       "25%    7.117600e+04  1.097000e+03  3.000000e+00\n",
       "50%    1.420220e+05  2.716000e+03  3.500000e+00\n",
       "75%    2.124590e+05  7.150000e+03  4.000000e+00\n",
       "max    2.832280e+05  1.938860e+05  5.000000e+00"
      ]
     },
     "execution_count": 115,
     "metadata": {},
     "output_type": "execute_result"
    }
   ],
   "source": [
    "data.describe()\n"
   ]
  },
  {
   "cell_type": "markdown",
   "id": "d16542d1",
   "metadata": {},
   "source": [
    "Let's plot a Box Plot to identify eventual outliers on the \"rating\" variable"
   ]
  },
  {
   "cell_type": "code",
   "execution_count": 116,
   "id": "006e75ea",
   "metadata": {},
   "outputs": [
    {
     "data": {
      "image/png": "[encoded data removed]",
      "text/plain": [
       "<Figure size 640x480 with 1 Axes>"
      ]
     },
     "metadata": {},
     "output_type": "display_data"
    },
    {
     "name": "stdout",
     "output_type": "stream",
     "text": [
      "Summary Statistics:\n",
      "count    2.775344e+07\n",
      "mean     3.530445e+00\n",
      "std      1.066353e+00\n",
      "min      5.000000e-01\n",
      "25%      3.000000e+00\n",
      "50%      3.500000e+00\n",
      "75%      4.000000e+00\n",
      "max      5.000000e+00\n",
      "Name: rating, dtype: float64\n",
      "Number of Outliers: 1328621\n",
      "Outliers:\n",
      "          userId  movieId  rating\n",
      "59             4       44     1.0\n",
      "65             4       65     0.5\n",
      "66             4       66     0.5\n",
      "79             4      158     0.5\n",
      "84             4      169     0.5\n",
      "...          ...      ...     ...\n",
      "27753277  283224     1389     1.0\n",
      "27753303  283226       65     1.0\n",
      "27753307  283226      420     1.0\n",
      "27753308  283226      502     1.0\n",
      "27753427  283228     5706     1.0\n",
      "\n",
      "[1328621 rows x 3 columns]\n"
     ]
    }
   ],
   "source": [
    "Q1 = data['rating'].quantile(0.25)\n",
    "Q3 = data['rating'].quantile(0.75)\n",
    "IQR = Q3 - Q1\n",
    "\n",
    "lower_bound = Q1 - 1.5 * IQR\n",
    "upper_bound = Q3 + 1.5 * IQR\n",
    "\n",
    "outliers = data[(data['rating'] < lower_bound) | (data['rating'] > upper_bound)]\n",
    "\n",
    "sns.boxplot(x=data['rating'])\n",
    "plt.title('Box Plot of Ratings')\n",
    "plt.show()\n",
    "\n",
    "print(\"Summary Statistics:\")\n",
    "print(data['rating'].describe())\n",
    "print(\"Number of Outliers:\", len(outliers))\n",
    "print(\"Outliers:\")\n",
    "print(outliers)\n"
   ]
  },
  {
   "cell_type": "markdown",
   "id": "eaf5958b",
   "metadata": {},
   "source": [
    "We implemented a user filtering approach to exclude individuals with unusual rating habits, specifically those who consistently give extremely high or extremely low ratings to more than 20 movies. This step was taken to emphasize users with more typical and balanced rating behavior, ensuring that the analysis and recommendations are not excessively impacted by outliers. In this particular context, having a total average score of either 0.5 or a 5 after having rated at least 20 movies was flagged as extreme behaviour."
   ]
  },
  {
   "cell_type": "code",
   "execution_count": 117,
   "id": "98caf72b",
   "metadata": {},
   "outputs": [
    {
     "name": "stdout",
     "output_type": "stream",
     "text": [
      "        userId  rating  movieId\n",
      "879        880     0.5       20\n",
      "1474      1475     5.0      106\n",
      "2334      2335     5.0       31\n",
      "2612      2613     5.0       20\n",
      "3331      3332     5.0       97\n",
      "...        ...     ...      ...\n",
      "274068  274069     5.0       35\n",
      "274072  274073     5.0       53\n",
      "276868  276869     5.0       28\n",
      "278486  278487     5.0       64\n",
      "279674  279675     5.0       68\n",
      "\n",
      "[209 rows x 3 columns]\n"
     ]
    }
   ],
   "source": [
    "user_avg_ratings = data.groupby('userId')['rating'].mean().reset_index()\n",
    "\n",
    "user_movie_counts = data.groupby('userId')['movieId'].nunique().reset_index()\n",
    "\n",
    "user_info = pd.merge(user_avg_ratings, user_movie_counts, on='userId')\n",
    "\n",
    "filtered_users = user_info[((user_info['rating'] < 0.6) | (user_info['rating'] == 5.0)) & (user_info['movieId'] >= 20)]\n",
    "\n",
    "print(filtered_users)"
   ]
  },
  {
   "cell_type": "markdown",
   "id": "c148fba7",
   "metadata": {},
   "source": [
    "We check how many individual movie reviews were written by the filtered users. It turned out that only 10263 out of 27753444 were dropped, so this will not affect the integrity of our dataset."
   ]
  },
  {
   "cell_type": "code",
   "execution_count": 118,
   "id": "66395471",
   "metadata": {},
   "outputs": [
    {
     "name": "stdout",
     "output_type": "stream",
     "text": [
      "Number of Users Filtered: 209\n",
      "Number of Unique Users in Original Data: 283228\n",
      "Total Reviews by Filtered Users: 10263\n",
      "Total Reviews in Original Data: 27753444\n"
     ]
    }
   ],
   "source": [
    "num_users_filtered = filtered_users.shape[0]\n",
    "\n",
    "num_unique_users_original = user_info['userId'].nunique()\n",
    "\n",
    "total_reviews_filtered_users = filtered_users['movieId'].sum()\n",
    "\n",
    "total_reviews_original = data.shape[0]\n",
    "\n",
    "print(\"Number of Users Filtered:\", num_users_filtered)\n",
    "print(\"Number of Unique Users in Original Data:\", num_unique_users_original)\n",
    "print(\"Total Reviews by Filtered Users:\", total_reviews_filtered_users)\n",
    "print(\"Total Reviews in Original Data:\", total_reviews_original)"
   ]
  },
  {
   "cell_type": "markdown",
   "id": "6b80c457",
   "metadata": {},
   "source": [
    "Dropping the discussed filtered users."
   ]
  },
  {
   "cell_type": "code",
   "execution_count": 119,
   "id": "5ee7fbfb",
   "metadata": {},
   "outputs": [],
   "source": [
    "data = data[~data['userId'].isin(filtered_users['userId'])]"
   ]
  },
  {
   "cell_type": "markdown",
   "id": "8dbf6a9e",
   "metadata": {},
   "source": [
    "Computing basic statistics: number of unique users and unique movies."
   ]
  },
  {
   "cell_type": "code",
   "execution_count": 120,
   "id": "5a3c8fef",
   "metadata": {},
   "outputs": [
    {
     "name": "stdout",
     "output_type": "stream",
     "text": [
      "unique users: 283019\n",
      "unique movies: 53878\n"
     ]
    }
   ],
   "source": [
    "unique_users = len(data['userId'].unique())\n",
    "unique_movie = len(data['movieId'].unique())\n",
    "\n",
    "print('unique users: ' + str(unique_users))\n",
    "print('unique movies: ' + str(unique_movie))"
   ]
  },
  {
   "cell_type": "markdown",
   "id": "cbaf8607",
   "metadata": {},
   "source": [
    "Because not every movie is going to recieve an equal number of users's ratings, we are running the probability density function. As seen in the figure below, a few thousand movies have all the ratings, while the majority of movies have very few if any. It is hard to draw conclusions or know when to recommend movies with little or no ratings."
   ]
  },
  {
   "cell_type": "code",
   "execution_count": 121,
   "id": "33da3c0d",
   "metadata": {},
   "outputs": [
    {
     "data": {
      "image/png": "[encoded data removed]",
      "text/plain": [
       "<Figure size 700x500 with 1 Axes>"
      ]
     },
     "metadata": {},
     "output_type": "display_data"
    }
   ],
   "source": [
    "def plot_density(data):\n",
    "    fig, ax = plt.subplots(figsize=(7,5))\n",
    "    plot = sns.histplot(data['movieId'], kde=True, ax=ax)\n",
    "\n",
    "plot_density(data)"
   ]
  },
  {
   "cell_type": "markdown",
   "id": "02cbea8a",
   "metadata": {},
   "source": [
    "Relative frequency of top-k items. The figure below suggests that k=5000 is a reasonable setting since the frequency distribution graph plateaus at around 5000. "
   ]
  },
  {
   "cell_type": "code",
   "execution_count": 122,
   "id": "38d6c5fe",
   "metadata": {},
   "outputs": [
    {
     "data": {
      "image/png": "[encoded data removed]",
      "text/plain": [
       "<Figure size 700x500 with 1 Axes>"
      ]
     },
     "metadata": {},
     "output_type": "display_data"
    }
   ],
   "source": [
    "def plot_frequency(df, k):\n",
    "    \n",
    "    fig, ax = plt.subplots(figsize=(7,5))\n",
    "    counts = data['movieId'].value_counts(sort=True, ascending=False)\n",
    "    orig = counts.index.tolist()\n",
    "    counts2 = counts.reset_index(inplace=False, drop=True)\n",
    "    sub = counts2.index.tolist()\n",
    "\n",
    "    sns.lineplot(x=counts2.index[0:k], y=counts2[0:k]/counts2[0:k].sum(), ax=ax)\n",
    "    ax.fill_between(counts2.index[0:k], counts2[0:k]/counts2[0:k].sum(), alpha=0.5)\n",
    "    ax.set_ylabel(\"relative frequency\")\n",
    "    ax.set_xlabel(\"top-k\")\n",
    "\n",
    "plot_frequency(data, k=10000)"
   ]
  },
  {
   "cell_type": "markdown",
   "id": "c3f6f8b3",
   "metadata": {},
   "source": [
    "Selecting the top-5000 items to build our recommender system."
   ]
  },
  {
   "cell_type": "code",
   "execution_count": 123,
   "id": "fdb85b72",
   "metadata": {},
   "outputs": [],
   "source": [
    "def select(df, k, col):\n",
    "\n",
    "    top_values = df[col].value_counts().nlargest(k)\n",
    "    return df.loc[df[col].isin(top_values.index)]\n",
    "\n",
    "data= select(data, k=5000, col='movieId')"
   ]
  },
  {
   "cell_type": "markdown",
   "id": "4e2b3cd0",
   "metadata": {},
   "source": [
    "Counting unique users & movies after selecting the top 5000 items."
   ]
  },
  {
   "cell_type": "code",
   "execution_count": 124,
   "id": "f060ec4e",
   "metadata": {
    "scrolled": true
   },
   "outputs": [
    {
     "name": "stdout",
     "output_type": "stream",
     "text": [
      "unique users: 282631\n",
      "unique movie: 5000\n"
     ]
    }
   ],
   "source": [
    "unique_users = len(data['userId'].unique())\n",
    "unique_movie = len(data['movieId'].unique())\n",
    "\n",
    "print('unique users: ' + str(unique_users))\n",
    "print('unique movie: ' + str(unique_movie))"
   ]
  },
  {
   "cell_type": "markdown",
   "id": "07441145",
   "metadata": {},
   "source": [
    "Creating a new dataset with the top 5000 items."
   ]
  },
  {
   "cell_type": "code",
   "execution_count": 125,
   "id": "a87331bc",
   "metadata": {},
   "outputs": [
    {
     "data": {
      "text/plain": [
       "(5000, 3)"
      ]
     },
     "execution_count": 125,
     "metadata": {},
     "output_type": "execute_result"
    }
   ],
   "source": [
    "data = data.iloc[:5000,:]\n",
    "data.shape"
   ]
  },
  {
   "cell_type": "markdown",
   "id": "0a3d3621",
   "metadata": {},
   "source": [
    "Creating a reader object."
   ]
  },
  {
   "cell_type": "code",
   "execution_count": 126,
   "id": "9cff2360",
   "metadata": {},
   "outputs": [],
   "source": [
    "reader = Reader(rating_scale=(0.5, 5))\n",
    "\n",
    "data = Dataset.load_from_df(data[['userId', 'movieId', 'rating']], reader)\n"
   ]
  },
  {
   "cell_type": "markdown",
   "id": "0de401d4",
   "metadata": {},
   "source": [
    "*PERFORMANCE METRICS*\n",
    "\n",
    "To evaluate the performance of our models the metrics chosen are Root Mean Squared Error (RMSE) and MAE (Mean Absolute Error). They are both well suited to evaluate regression tasks like a the one at hand. RMSE =  Square Root of [(1/n) * Sum of (y_i - ŷ_i)^2]. Provides information about the magnitude of prediction errors. Meanwhile, MAE, MAE = (1/n) * Sum of |y_i - ŷ_i|, gives us a measure of the average abolsute deviation. RMSE is more sensitive to outliers, which our data has, because it penalizes large errors more. MAE is more robust to outliers and therefore might be a more reliable in this data.\n",
    "​"
   ]
  },
  {
   "cell_type": "markdown",
   "id": "3b7a92e8",
   "metadata": {},
   "source": [
    "*MODELS*"
   ]
  },
  {
   "cell_type": "markdown",
   "id": "b8c7e2fb",
   "metadata": {},
   "source": [
    "Normal Predictor will be our baseline. It assumes that ratings are normally distributed, and makes recommendations completely at random, without considering any user-item interactions or patterns in the data. "
   ]
  },
  {
   "cell_type": "code",
   "execution_count": 127,
   "id": "9ed16dd8",
   "metadata": {},
   "outputs": [
    {
     "name": "stdout",
     "output_type": "stream",
     "text": [
      "Cross-Validation Results:\n",
      "   Train RMSE  Test RMSE  Train MAE  Test MAE  fit_time  test_time\n",
      "0    1.456056   1.456890   1.154974  1.162641  0.003993   0.004040\n",
      "1    1.462929   1.405625   1.166036  1.120921  0.003994   0.008233\n",
      "2    1.447764   1.455049   1.147887  1.153423  0.003991   0.007952\n",
      "3    1.460203   1.457269   1.155487  1.165028  0.007955   0.000000\n",
      "4    1.464784   1.400820   1.166259  1.126190  0.003987   0.000000\n"
     ]
    }
   ],
   "source": [
    "np.random.seed(31415)\n",
    "cv = KFold(n_splits=5, random_state=42, shuffle=True)\n",
    "\n",
    "results = cross_validate(NormalPredictor(), data, cv=cv, return_train_measures=True)\n",
    "\n",
    "df = pd.DataFrame(results)\n",
    "df.rename(columns={\n",
    "    'test_rmse': 'Test RMSE',\n",
    "    'test_mae': 'Test MAE',\n",
    "    'train_rmse': 'Train RMSE',\n",
    "    'train_mae': 'Train MAE'\n",
    "}, inplace=True)\n",
    "\n",
    "print(\"Cross-Validation Results:\")\n",
    "print(df[['Train RMSE', 'Test RMSE', 'Train MAE', 'Test MAE', 'fit_time', 'test_time']])"
   ]
  },
  {
   "cell_type": "markdown",
   "id": "01ee0285",
   "metadata": {},
   "source": [
    "We test the RMSE and MAE for both the test & the train set to detect overfitting. We store the results to later include them in a final table & graph."
   ]
  },
  {
   "cell_type": "code",
   "execution_count": 128,
   "id": "f5da7dcf",
   "metadata": {},
   "outputs": [],
   "source": [
    "test_rmse_values = results['test_rmse']\n",
    "train_rmse_values = results['train_rmse']\n",
    "test_mae_values = results['test_mae']\n",
    "train_mae_values = results['train_mae']\n",
    "\n",
    "mean_test_rmse_normal = np.mean(test_rmse_values)\n",
    "mean_train_rmse_normal = np.mean(train_rmse_values)\n",
    "mean_test_mae_normal = np.mean(test_mae_values)\n",
    "mean_train_mae_normal = np.mean(train_mae_values)"
   ]
  },
  {
   "cell_type": "markdown",
   "id": "5583c43e",
   "metadata": {},
   "source": [
    "The first selected method is a neighbordhood method; KNN With Means. This method is appropiate for the type of data presented as it mitigates the impact of bias present in the data. As we saw in the outlier analysis, we are dealing with a skewed distribution. By considering the similarities between users or items (in our case it will prove more effective to consider users), it can provide recommendations based on relative preferences rather than just the global mean. The hyperparameters to be tuned for this method are the following:\n",
    "- k: k is the number of nearest neighbors to consider. Smaller values of k picks up local patterns while larger k values make the model more robust but they can miss important patterns in the data making them less accurate.  \n",
    "- Name: it is a similarity metric. Essentially it is the choice of which method to measure distance/similarity between points, as to decide which neighbors are nearest. The possible metrics in our case are cosine similarity and Pearson correlation. Cosine similarity is often used in recommendation systems, so we expect it to perform well in this context. It is a robust method and performs well with sparse data. The other possible metric is Pearson correlation, which assumes a linear relationship in the data. \n",
    "- User_based: this variable is a boolean to indicate whether the model should consider users or items to find similarities between. The algorithm would try to find users with similar interests while items would try to evaluate similarities between movies. Since little information aside from rating is offered about the movies, probably similarities between user interests (those who liked or disliked the same movies) make more sense in this context."
   ]
  },
  {
   "cell_type": "code",
   "execution_count": 129,
   "id": "1f7d22f5",
   "metadata": {},
   "outputs": [
    {
     "name": "stdout",
     "output_type": "stream",
     "text": [
      "Best Parameters:\n",
      "rmse: {'k': 20, 'sim_options': {'name': 'cosine', 'user_based': True}, 'verbose': False}\n",
      "mae: {'k': 20, 'sim_options': {'name': 'cosine', 'user_based': True}, 'verbose': False}\n",
      "\n",
      "Best Results (RMSE and MAE):\n",
      "rmse: 1.0719182390518498\n",
      "mae: 0.8293992387918943\n"
     ]
    }
   ],
   "source": [
    "np.random.seed(31415)\n",
    "\n",
    "param_grid = {\n",
    "    'k': [10, 15, 20, 25, 30],  # Number of neighbors to consider\n",
    "    'sim_options': {\n",
    "        'name': ['cosine', 'pearson'],  # Similarity measure\n",
    "        'user_based': [True, False]  # Whether to use user-based or item-based collaborative filtering\n",
    "    }   , \n",
    "    'verbose': [False]\n",
    " }\n",
    "\n",
    "\n",
    "grid_search = GridSearchCV(KNNWithMeans, param_grid, measures=['RMSE', 'MAE'],cv=KFold(5, random_state=42))\n",
    "\n",
    "grid_search.fit(data)\n",
    "\n",
    "best_params = grid_search.best_params\n",
    "best_results = grid_search.best_score\n",
    "\n",
    "print(\"Best Parameters:\")\n",
    "for param, value in best_params.items():\n",
    "    print(f\"{param}: {value}\")\n",
    "\n",
    "print(\"\\nBest Results (RMSE and MAE):\")\n",
    "for metric, value in best_results.items():\n",
    "    print(f\"{metric}: {value}\")"
   ]
  },
  {
   "cell_type": "markdown",
   "id": "807793f9",
   "metadata": {},
   "source": [
    "Above hyperparameters were tuned using GirdSearch Cross Validation and now the model will be run on the optimal hyperparameter configuration. Then the results will be displayed in a table, a brief discussion follows:\n",
    "\n",
    "In the comparison between Test and Train, we see that for both RMSE and MAE the training is outperforming (smaller values) the test set. This means there is overfitting at play -overfitting could be solved by a higher k value however, k=20 was the optimal parameter chosen by gridsearch cross validation in the previous section. The results are consistent within the 5 folds. "
   ]
  },
  {
   "cell_type": "code",
   "execution_count": 130,
   "id": "c8ffcf3b",
   "metadata": {},
   "outputs": [
    {
     "name": "stdout",
     "output_type": "stream",
     "text": [
      "Cross-Validation Results:\n",
      "   Train RMSE  Test RMSE  Train MAE  Test MAE  fit_time  test_time\n",
      "0    0.634581   1.089065   0.433276  0.844419  0.006000   0.020975\n",
      "1    0.632877   1.056129   0.431702  0.810433  0.002998   0.012026\n",
      "2    0.637996   1.084251   0.435874  0.844309  0.005994   0.012033\n",
      "3    0.636342   1.054842   0.432867  0.817001  0.005432   0.011993\n",
      "4    0.637467   1.075303   0.435042  0.830833  0.002998   0.014983\n"
     ]
    }
   ],
   "source": [
    "results = cross_validate(KNNWithMeans(k=20,  sim_options={'name':'cosine', 'user_based':True}, verbose=False), data, cv=cv, return_train_measures=True)\n",
    "\n",
    "df = pd.DataFrame(results)\n",
    "df.rename(columns={\n",
    "    'test_rmse': 'Test RMSE',\n",
    "    'test_mae': 'Test MAE',\n",
    "    'train_rmse': 'Train RMSE',\n",
    "    'train_mae': 'Train MAE'\n",
    "}, inplace=True)\n",
    "\n",
    "print(\"Cross-Validation Results:\")\n",
    "print(df[['Train RMSE', 'Test RMSE', 'Train MAE', 'Test MAE', 'fit_time', 'test_time']])"
   ]
  },
  {
   "cell_type": "markdown",
   "id": "15694007",
   "metadata": {},
   "source": [
    "In the cell below the mean between those 5 fold is calculated for each, and results are stored for later usage."
   ]
  },
  {
   "cell_type": "code",
   "execution_count": 131,
   "id": "183dc707",
   "metadata": {},
   "outputs": [],
   "source": [
    "test_rmse_values = results['test_rmse']\n",
    "train_rmse_values = results['train_rmse']\n",
    "test_mae_values = results['test_mae']\n",
    "train_mae_values = results['train_mae']\n",
    "\n",
    "mean_test_rmse_knn = np.mean(test_rmse_values)\n",
    "mean_train_rmse_knn = np.mean(train_rmse_values)\n",
    "mean_test_mae_knn = np.mean(test_mae_values)\n",
    "mean_train_mae_knn = np.mean(train_mae_values)"
   ]
  },
  {
   "cell_type": "markdown",
   "id": "2e5322fd",
   "metadata": {},
   "source": [
    "Since our dataset only had three features (userId, movieId, rating), we choose the simplest matrix factorization method, SVD. This algorithm can capture both user and item biases using matrix factorization and this comes handy with our dataset, since our data presents a positive skewness. Moreover this algorithm can handle the cold start problem better than more advanced methods such as SVD++, meaning it can still perform well with users with little review history. The hyperparameters tuned for this algorithm are:\n",
    "- n_factors: The number of factors hyperparameter determines the number of latent factors used for matrix factorization. A higher number of factors may capture more intricate user-item interactions but can also lead to overfitting, while a lower number simplifies the representation. \n",
    "- reg_all: Regularization term is a technique used to prevent overfitting. It adds a penalty term to the function to be optimized to discourage complex model solutions. The regularization term is refered to lambda in the optimization function and the possible values chosen to be selected from are 0.01, 0.02 and 0.05.\n",
    "- lr_all: The Learnings Rate controls the step size during the optimization process. A small learning rate can be very computationally expensive and time consuming, but a learning rate that is too large might risk overshooting the optimal solution. \n",
    "- n_epochs: The Number of Epochs is the number of iterations, which are the number of times the model updates its parameters during training.\n",
    "- biased: This parameter is a boolean which indicates whether to include bias term in the model. As mentioned above, our data is positively skewed so we expect the bias term to be useful and therefore included."
   ]
  },
  {
   "cell_type": "code",
   "execution_count": 132,
   "id": "f08ad840",
   "metadata": {},
   "outputs": [
    {
     "name": "stdout",
     "output_type": "stream",
     "text": [
      "Best Parameters:\n",
      "rmse: {'n_factors': 2, 'reg_all': 0.05, 'lr_all': 0.01, 'n_epochs': 15, 'biased': True}\n",
      "mae: {'n_factors': 5, 'reg_all': 0.05, 'lr_all': 0.01, 'n_epochs': 20, 'biased': True}\n",
      "\n",
      "Best Results (RMSE and MAE):\n",
      "rmse: 0.9590446050529178\n",
      "mae: 0.7420557380039059\n"
     ]
    }
   ],
   "source": [
    "np.random.seed(31415)\n",
    "\n",
    "param_grid = {\n",
    "    'n_factors': [2, 5, 10],            # Number of latent factors\n",
    "    'reg_all': [0.01, 0.02, 0.05],        # Regularization term (lambda)\n",
    "    'lr_all': [0.002, 0.005, 0.01],       # Learning rate\n",
    "    'n_epochs': [5,10,15,20],                 # Number of iterations\n",
    "    'biased': [True, False]              # Bias terms\n",
    "}\n",
    "\n",
    "grid_search = GridSearchCV(SVD, param_grid, measures=['rmse', 'mae'], cv=KFold(5, random_state=42))\n",
    "grid_search.fit(data)\n",
    "\n",
    "best_params = grid_search.best_params\n",
    "best_results = grid_search.best_score\n",
    "\n",
    "print(\"Best Parameters:\")\n",
    "for param, value in best_params.items():\n",
    "    print(f\"{param}: {value}\")\n",
    "print(\"\\nBest Results (RMSE and MAE):\")\n",
    "for metric, value in best_results.items():\n",
    "    print(f\"{metric}: {value}\")"
   ]
  },
  {
   "cell_type": "markdown",
   "id": "2a0754e2",
   "metadata": {},
   "source": [
    "Above hyperparameters were tuned using GirdSearch Cross Validation and now the model will be run on the optimal hyperparameter configuration. Then the results will be displayed in a table, a brief discussion follows:\n",
    "\n",
    "In the comparison between Test and Train, we see that for both RMSE and MAE the training is outperforming (smaller values) the test set. However, the overfitting is much smaller than in the KNN with means, so the chosen Regularization Term, 0.05, is working properly. "
   ]
  },
  {
   "cell_type": "code",
   "execution_count": 133,
   "id": "fa20d76d",
   "metadata": {},
   "outputs": [
    {
     "name": "stdout",
     "output_type": "stream",
     "text": [
      "Cross-Validation Results:\n",
      "   Train RMSE  Test RMSE  Train MAE  Test MAE  fit_time  test_time\n",
      "0    0.814783   0.964183   0.629085  0.759373  0.028250   0.011992\n",
      "1    0.811078   0.944770   0.632793  0.711088  0.011989   0.002997\n",
      "2    0.807320   0.981586   0.626097  0.762815  0.020983   0.002999\n",
      "3    0.818137   0.949934   0.633106  0.742611  0.014986   0.005995\n",
      "4    0.815642   0.955639   0.631137  0.737542  0.020987   0.014987\n"
     ]
    }
   ],
   "source": [
    "results = cross_validate(SVD(n_factors=5,  reg_all=0.05, lr_all=0.01, n_epochs=15, biased=True), data, cv=cv, return_train_measures=True)\n",
    "\n",
    "df = pd.DataFrame(results)\n",
    "df.rename(columns={\n",
    "    'test_rmse': 'Test RMSE',\n",
    "    'test_mae': 'Test MAE',\n",
    "    'train_rmse': 'Train RMSE',\n",
    "    'train_mae': 'Train MAE'\n",
    "}, inplace=True)\n",
    "\n",
    "print(\"Cross-Validation Results:\")\n",
    "print(df[['Train RMSE', 'Test RMSE', 'Train MAE', 'Test MAE', 'fit_time', 'test_time']])"
   ]
  },
  {
   "cell_type": "markdown",
   "id": "4b586d07",
   "metadata": {},
   "source": [
    "In the cell below the mean between those 5 fold is calculated for each, and results are stored for later usage."
   ]
  },
  {
   "cell_type": "code",
   "execution_count": 134,
   "id": "1ff59fab",
   "metadata": {},
   "outputs": [],
   "source": [
    "test_rmse_values = results['test_rmse']\n",
    "train_rmse_values = results['train_rmse']\n",
    "test_mae_values = results['test_mae']\n",
    "train_mae_values = results['train_mae']\n",
    "\n",
    "mean_test_rmse_svd = np.mean(test_rmse_values)\n",
    "mean_train_rmse_svd = np.mean(train_rmse_values)\n",
    "mean_test_mae_svd = np.mean(test_mae_values)\n",
    "mean_train_mae_svd = np.mean(train_mae_values)"
   ]
  },
  {
   "cell_type": "markdown",
   "id": "6b759b9b",
   "metadata": {},
   "source": [
    "*RESULTS AND CONCLUSION*"
   ]
  },
  {
   "cell_type": "code",
   "execution_count": 135,
   "id": "09d434fc",
   "metadata": {},
   "outputs": [],
   "source": [
    "results_table = {\n",
    "    'Normal Predictor': {\n",
    "        'Mean Test RMSE': mean_test_rmse_normal,\n",
    "        'Mean Test MAE': mean_test_mae_normal,\n",
    "    },\n",
    "    'kNN with Means': {\n",
    "        'Mean Test RMSE': mean_test_rmse_knn,\n",
    "        'Mean Test MAE': mean_test_mae_knn,\n",
    "    },\n",
    "    'SVD': {\n",
    "        'Mean Test RMSE': mean_test_rmse_svd,\n",
    "        'Mean Test MAE': mean_test_mae_svd,\n",
    "    },\n",
    "}\n",
    "\n",
    "results_df = pd.DataFrame(results_table)"
   ]
  },
  {
   "cell_type": "code",
   "execution_count": 136,
   "id": "8089d050",
   "metadata": {},
   "outputs": [
    {
     "name": "stdout",
     "output_type": "stream",
     "text": [
      "                Normal Predictor  kNN with Means       SVD\n",
      "Mean Test RMSE          1.435131        1.071918  0.959222\n",
      "Mean Test MAE           1.145641        0.829399  0.742686\n"
     ]
    },
    {
     "data": {
      "image/png": "[encoded data removed]",
      "text/plain": [
       "<Figure size 1000x600 with 1 Axes>"
      ]
     },
     "metadata": {},
     "output_type": "display_data"
    }
   ],
   "source": [
    "\n",
    "color_palette = ['#000080', '#9370DB', '#800080']\n",
    "\n",
    "ax = results_df.plot(kind='bar', figsize=(10, 6), color=color_palette)\n",
    "plt.title('Mean Test RMSE and Mean Test MAE by Algorithm')\n",
    "plt.xlabel('Algorithm')\n",
    "plt.ylabel('Score')\n",
    "plt.legend(loc='best')\n",
    "\n",
    "plt.xticks(rotation=0)  \n",
    "\n",
    "print(results_df)\n",
    "plt.show()"
   ]
  },
  {
   "cell_type": "markdown",
   "id": "4b542bcc",
   "metadata": {},
   "source": [
    "The table and graph above display the results on the testing set of the three models explained and trained before. A discussion on the results follows:\n",
    "\n",
    "The graph displays the results in a more visual and more plesant to interpret way. At first glance it becomes clear that both RMSE and MAE agree on the ranking of the algorithms, albeit RMSE has higher values -as discussed before it penalizes more large errors- than MAE. The baseline model, Normal Predictor, was the worst performing model as per both evaluation metrics. While KNN with Means significantly outperformed the baseline model, it still performed slightly worse than the SVD, which was the best performing model.\n",
    "\n",
    "The results point to SVD being the best performing, maybe because matrix factorization works best in this type of data, or perhaps because a larger number of hyperparameters were tuned for this algorithm, allowing it to be very tailored to this recommendation problem. As discussed before, while the overfitting in the SVD was very minor, for the KNN with Means model severe overfitting was observed. Despite hypertuning the number of nearest neighbors (k), the KNN was overfitting, this could be solved by increasing k.\n",
    "\n",
    "Having more features in the model, and perhaps including *timestamp* if they were more up-to-date, as well as other information both about the movies (Genere...) and the users (Age, Sex, etc) would improve our recommendation capabilities. It would furthermore allow to use more complex models like SVD++ which would likely perform better. Furthermore, being aware that there was a positive skewness in our data, data could have been normalized during the pre-processing stage, reducing the obstacles for algorithms to offer accurate recommendations.\n",
    "\n",
    "Overall, both our chosen models succesfully outperformed significantly the baseline model."
   ]
  },
  {
   "cell_type": "code",
   "execution_count": null,
   "id": "2609bf2d",
   "metadata": {},
   "outputs": [],
   "source": []
  }
 ],
 "metadata": {
  "kernelspec": {
   "display_name": "Python 3 (ipykernel)",
   "language": "python",
   "name": "python3"
  },
  "language_info": {
   "codemirror_mode": {
    "name": "ipython",
    "version": 3
   },
   "file_extension": ".py",
   "mimetype": "text/x-python",
   "name": "python",
   "nbconvert_exporter": "python",
   "pygments_lexer": "ipython3",
   "version": "3.9.13"
  }
 },
 "nbformat": 4,
 "nbformat_minor": 5
}
